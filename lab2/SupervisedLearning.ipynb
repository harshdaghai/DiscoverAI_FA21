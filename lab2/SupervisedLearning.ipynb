{
    "metadata": {
        "kernelspec": {
            "name": "python3",
            "display_name": "Python 3 (ipykernel)",
            "language": "python"
        }
    },
    "nbformat": 4,
    "nbformat_minor": 2,
    "cells": [
        {
            "attachments": {},
            "cell_type": "markdown",
            "metadata": {},
            "source": [
                "This code is an introduction to supervised learning solving a classification problem using **decision trees**.\n",
                "It follows [this tutorial](https://youtu.be/7eh4d6sabA0). "
            ]
        },
        {
            "attachments": {},
            "cell_type": "markdown",
            "metadata": {},
            "source": [
                "# **Classification Problem**\n",
                "We will follow these steps of solving a machine learning problem.\n",
                "\n",
                "\n",
                "1. Import the Data\n",
                "2. Clean the Data\n",
                "3. split the Data into Training/ Test steps\n",
                "4. Create a Model\n",
                "5. Train the Model\n",
                "6. Make Predictions\n",
                "7. Evaluate and improve\n",
                ""
            ]
        },
        {
            "attachments": {},
            "cell_type": "markdown",
            "metadata": {},
            "source": [
                "# Problem description\n",
                "Enter in the text cell below what you will be predicting in this classification problem (y) and which columns will be used in the prediction (X)"
            ]
        },
        {
            "attachments": {},
            "cell_type": "markdown",
            "metadata": {},
            "source": [
                ""
            ]
        },
        {
            "cell_type": "code",
            "execution_count": 2,
            "metadata": {},
            "outputs": [],
            "source": [
                "import pandas as pd\n",
                "import seaborn as sns\n",
                "import numpy as np\n",
                "from sklearn.linear_model import LinearRegression\n",
                "from sklearn.tree import DecisionTreeClassifier\n",
                "from sklearn.model_selection import train_test_split\n",
                "from sklearn.metrics import accuracy_score\n",
                "import joblib\n",
                "from sklearn import tree"
            ]
        },
        {
            "attachments": {},
            "cell_type": "markdown",
            "metadata": {},
            "source": [
                "1. Import the Data."
            ]
        },
        {
            "cell_type": "code",
            "execution_count": 3,
            "metadata": {},
            "outputs": [
                {
                    "data": {
                        "text/html": "\u003cdiv\u003e\n\u003cstyle scoped\u003e\n    .dataframe tbody tr th:only-of-type {\n        vertical-align: middle;\n    }\n\n    .dataframe tbody tr th {\n        vertical-align: top;\n    }\n\n    .dataframe thead th {\n        text-align: right;\n    }\n\u003c/style\u003e\n\u003ctable border=\"1\" class=\"dataframe\"\u003e\n  \u003cthead\u003e\n    \u003ctr style=\"text-align: right;\"\u003e\n      \u003cth\u003e\u003c/th\u003e\n      \u003cth\u003etype\u003c/th\u003e\n      \u003cth\u003eyear\u003c/th\u003e\n      \u003cth\u003etuition_type\u003c/th\u003e\n      \u003cth\u003etuition_cost\u003c/th\u003e\n      \u003cth\u003esingle_year\u003c/th\u003e\n    \u003c/tr\u003e\n  \u003c/thead\u003e\n  \u003ctbody\u003e\n    \u003ctr\u003e\n      \u003cth\u003e0\u003c/th\u003e\n      \u003ctd\u003eAll Institutions\u003c/td\u003e\n      \u003ctd\u003e1985-86\u003c/td\u003e\n      \u003ctd\u003eAll Constant\u003c/td\u003e\n      \u003ctd\u003e10893\u003c/td\u003e\n      \u003ctd\u003e1985\u003c/td\u003e\n    \u003c/tr\u003e\n    \u003ctr\u003e\n      \u003cth\u003e1\u003c/th\u003e\n      \u003ctd\u003eAll Institutions\u003c/td\u003e\n      \u003ctd\u003e1985-86\u003c/td\u003e\n      \u003ctd\u003e4 Year Constant\u003c/td\u003e\n      \u003ctd\u003e12274\u003c/td\u003e\n      \u003ctd\u003e1985\u003c/td\u003e\n    \u003c/tr\u003e\n    \u003ctr\u003e\n      \u003cth\u003e2\u003c/th\u003e\n      \u003ctd\u003eAll Institutions\u003c/td\u003e\n      \u003ctd\u003e1985-86\u003c/td\u003e\n      \u003ctd\u003e2 Year Constant\u003c/td\u003e\n      \u003ctd\u003e7508\u003c/td\u003e\n      \u003ctd\u003e1985\u003c/td\u003e\n    \u003c/tr\u003e\n    \u003ctr\u003e\n      \u003cth\u003e3\u003c/th\u003e\n      \u003ctd\u003eAll Institutions\u003c/td\u003e\n      \u003ctd\u003e1985-86\u003c/td\u003e\n      \u003ctd\u003eAll Current\u003c/td\u003e\n      \u003ctd\u003e4885\u003c/td\u003e\n      \u003ctd\u003e1985\u003c/td\u003e\n    \u003c/tr\u003e\n    \u003ctr\u003e\n      \u003cth\u003e4\u003c/th\u003e\n      \u003ctd\u003eAll Institutions\u003c/td\u003e\n      \u003ctd\u003e1985-86\u003c/td\u003e\n      \u003ctd\u003e4 Year Current\u003c/td\u003e\n      \u003ctd\u003e5504\u003c/td\u003e\n      \u003ctd\u003e1985\u003c/td\u003e\n    \u003c/tr\u003e\n    \u003ctr\u003e\n      \u003cth\u003e...\u003c/th\u003e\n      \u003ctd\u003e...\u003c/td\u003e\n      \u003ctd\u003e...\u003c/td\u003e\n      \u003ctd\u003e...\u003c/td\u003e\n      \u003ctd\u003e...\u003c/td\u003e\n      \u003ctd\u003e...\u003c/td\u003e\n    \u003c/tr\u003e\n    \u003ctr\u003e\n      \u003cth\u003e265\u003c/th\u003e\n      \u003ctd\u003ePrivate\u003c/td\u003e\n      \u003ctd\u003e2016-17\u003c/td\u003e\n      \u003ctd\u003e4 Year Constant\u003c/td\u003e\n      \u003ctd\u003e41468\u003c/td\u003e\n      \u003ctd\u003e2016\u003c/td\u003e\n    \u003c/tr\u003e\n    \u003ctr\u003e\n      \u003cth\u003e266\u003c/th\u003e\n      \u003ctd\u003ePrivate\u003c/td\u003e\n      \u003ctd\u003e2016-17\u003c/td\u003e\n      \u003ctd\u003e2 Year Constant\u003c/td\u003e\n      \u003ctd\u003e24882\u003c/td\u003e\n      \u003ctd\u003e2016\u003c/td\u003e\n    \u003c/tr\u003e\n    \u003ctr\u003e\n      \u003cth\u003e267\u003c/th\u003e\n      \u003ctd\u003ePrivate\u003c/td\u003e\n      \u003ctd\u003e2016-17\u003c/td\u003e\n      \u003ctd\u003eAll Current\u003c/td\u003e\n      \u003ctd\u003e40925\u003c/td\u003e\n      \u003ctd\u003e2016\u003c/td\u003e\n    \u003c/tr\u003e\n    \u003ctr\u003e\n      \u003cth\u003e268\u003c/th\u003e\n      \u003ctd\u003ePrivate\u003c/td\u003e\n      \u003ctd\u003e2016-17\u003c/td\u003e\n      \u003ctd\u003e4 Year Current\u003c/td\u003e\n      \u003ctd\u003e41468\u003c/td\u003e\n      \u003ctd\u003e2016\u003c/td\u003e\n    \u003c/tr\u003e\n    \u003ctr\u003e\n      \u003cth\u003e269\u003c/th\u003e\n      \u003ctd\u003ePrivate\u003c/td\u003e\n      \u003ctd\u003e2016-17\u003c/td\u003e\n      \u003ctd\u003e2 Year Current\u003c/td\u003e\n      \u003ctd\u003e24882\u003c/td\u003e\n      \u003ctd\u003e2016\u003c/td\u003e\n    \u003c/tr\u003e\n  \u003c/tbody\u003e\n\u003c/table\u003e\n\u003cp\u003e270 rows × 5 columns\u003c/p\u003e\n\u003c/div\u003e",
                        "text/plain": "                 type     year     tuition_type  tuition_cost single_year\n0    All Institutions  1985-86     All Constant         10893        1985\n1    All Institutions  1985-86  4 Year Constant         12274        1985\n2    All Institutions  1985-86  2 Year Constant          7508        1985\n3    All Institutions  1985-86      All Current          4885        1985\n4    All Institutions  1985-86   4 Year Current          5504        1985\n..                ...      ...              ...           ...         ...\n265           Private  2016-17  4 Year Constant         41468        2016\n266           Private  2016-17  2 Year Constant         24882        2016\n267           Private  2016-17      All Current         40925        2016\n268           Private  2016-17   4 Year Current         41468        2016\n269           Private  2016-17   2 Year Current         24882        2016\n\n[270 rows x 5 columns]"
                    },
                    "execution_count": 3,
                    "metadata": {},
                    "output_type": "execute_result"
                }
            ],
            "source": [
                "df = pd.read_csv('historical_tuition.csv')\n",
                "df['single_year'] = df['year'].str[:4]\n",
                "df"
            ]
        },
        {
            "attachments": {},
            "cell_type": "markdown",
            "metadata": {},
            "source": [
                "2. Display columns and describe the data set"
            ]
        },
        {
            "cell_type": "code",
            "execution_count": 4,
            "metadata": {},
            "outputs": [
                {
                    "name": "stdout",
                    "output_type": "stream",
                    "text": "\u003cclass 'pandas.core.frame.DataFrame'\u003e\nRangeIndex: 270 entries, 0 to 269\nData columns (total 5 columns):\n #   Column        Non-Null Count  Dtype \n---  ------        --------------  ----- \n 0   type          270 non-null    object\n 1   year          270 non-null    object\n 2   tuition_type  270 non-null    object\n 3   tuition_cost  270 non-null    int64 \n 4   single_year   270 non-null    object\ndtypes: int64(1), object(4)\nmemory usage: 10.7+ KB\n"
                }
            ],
            "source": [
                "df.info()"
            ]
        },
        {
            "cell_type": "code",
            "execution_count": 5,
            "metadata": {},
            "outputs": [
                {
                    "data": {
                        "text/html": "\u003cdiv\u003e\n\u003cstyle scoped\u003e\n    .dataframe tbody tr th:only-of-type {\n        vertical-align: middle;\n    }\n\n    .dataframe tbody tr th {\n        vertical-align: top;\n    }\n\n    .dataframe thead th {\n        text-align: right;\n    }\n\u003c/style\u003e\n\u003ctable border=\"1\" class=\"dataframe\"\u003e\n  \u003cthead\u003e\n    \u003ctr style=\"text-align: right;\"\u003e\n      \u003cth\u003e\u003c/th\u003e\n      \u003cth\u003etuition_cost\u003c/th\u003e\n    \u003c/tr\u003e\n  \u003c/thead\u003e\n  \u003ctbody\u003e\n    \u003ctr\u003e\n      \u003cth\u003ecount\u003c/th\u003e\n      \u003ctd\u003e270.000000\u003c/td\u003e\n    \u003c/tr\u003e\n    \u003ctr\u003e\n      \u003cth\u003emean\u003c/th\u003e\n      \u003ctd\u003e17597.366667\u003c/td\u003e\n    \u003c/tr\u003e\n    \u003ctr\u003e\n      \u003cth\u003estd\u003c/th\u003e\n      \u003ctd\u003e9201.448660\u003c/td\u003e\n    \u003c/tr\u003e\n    \u003ctr\u003e\n      \u003cth\u003emin\u003c/th\u003e\n      \u003ctd\u003e2981.000000\u003c/td\u003e\n    \u003c/tr\u003e\n    \u003ctr\u003e\n      \u003cth\u003e25%\u003c/th\u003e\n      \u003ctd\u003e9796.500000\u003c/td\u003e\n    \u003c/tr\u003e\n    \u003ctr\u003e\n      \u003cth\u003e50%\u003c/th\u003e\n      \u003ctd\u003e16983.000000\u003c/td\u003e\n    \u003c/tr\u003e\n    \u003ctr\u003e\n      \u003cth\u003e75%\u003c/th\u003e\n      \u003ctd\u003e23574.000000\u003c/td\u003e\n    \u003c/tr\u003e\n    \u003ctr\u003e\n      \u003cth\u003emax\u003c/th\u003e\n      \u003ctd\u003e41468.000000\u003c/td\u003e\n    \u003c/tr\u003e\n  \u003c/tbody\u003e\n\u003c/table\u003e\n\u003c/div\u003e",
                        "text/plain": "       tuition_cost\ncount    270.000000\nmean   17597.366667\nstd     9201.448660\nmin     2981.000000\n25%     9796.500000\n50%    16983.000000\n75%    23574.000000\nmax    41468.000000"
                    },
                    "execution_count": 5,
                    "metadata": {},
                    "output_type": "execute_result"
                }
            ],
            "source": [
                "df.describe()"
            ]
        },
        {
            "attachments": {},
            "cell_type": "markdown",
            "metadata": {},
            "source": [
                "3. Prepare Data"
            ]
        },
        {
            "cell_type": "code",
            "execution_count": 6,
            "metadata": {},
            "outputs": [],
            "source": [
                "# Run this section to inspect X\n",
                "X = df.drop(columns = ['type', 'tuition_cost', 'tuition_type', 'year'])\n",
                "#X = df.drop(columns = ['name', 'state', 'campus'])\n",
                "#X = df.drop_duplicates(subset='year', keep=\"first\")\n",
                "\n",
                "X = X.values.reshape(-1,1)\n",
                "X"
            ]
        },
        {
            "cell_type": "code",
            "execution_count": 7,
            "metadata": {},
            "outputs": [],
            "source": [
                "# Uncomment this section to inpect y\n",
                "y = df['tuition_cost']\n",
                "y = y.values.reshape(-1, 1)\n",
                "y"
            ]
        },
        {
            "attachments": {},
            "cell_type": "markdown",
            "metadata": {},
            "source": [
                "4. Calculate accuracy"
            ]
        },
        {
            "cell_type": "code",
            "execution_count": 11,
            "metadata": {},
            "outputs": [],
            "source": [
                "# Train 80% of the data set and use the rest to test\n",
                "#X_train, X_test, y_train, y_test = train_test_split(\n",
                "                                    #X, y, test_size=0.2)\n",
                "\n",
                "#model = DecisionTreeClassifier()\n",
                "#model.fit(X_train, y_train)\n",
                "#predictions = model.predict(X_test)\n",
                "\n",
                "# Compute model accuracy\n",
                "#score = accuracy_score(y_test, predictions)\n",
                "#score\n",
                "model = LinearRegression()\n",
                "model.fit(X, y)\n",
                "model = LinearRegression().fit(X, y)\n",
                "#coefficient of determination\n",
                "r_sq = model.score(X, y)\n",
                "r_sq\n",
                "\n",
                "\n",
                "y_pred = model.predict(X)\n",
                "y_pred"
            ]
        },
        {
            "attachments": {},
            "cell_type": "markdown",
            "metadata": {},
            "source": [
                "5. Persisting Models"
            ]
        },
        {
            "cell_type": "code",
            "execution_count": 6,
            "metadata": {},
            "outputs": [],
            "source": [
                "# Save the model to file\n",
                "joblib.dump(model, 'MODELNAME.joblib')\n",
                ""
            ]
        },
        {
            "attachments": {},
            "cell_type": "markdown",
            "metadata": {},
            "source": [
                "5.b. Import the model and make predictions"
            ]
        },
        {
            "cell_type": "code",
            "execution_count": 7,
            "metadata": {},
            "outputs": [],
            "source": [
                "# Load saved model. Make sure that you have run the previous\n",
                "# section at least once, and that the file exists.\n",
                "\n",
                "model = joblib.load('MODELNAME.joblib')\n",
                "predictions = model.predict(X_test)\n",
                "predictions"
            ]
        },
        {
            "attachments": {},
            "cell_type": "markdown",
            "metadata": {},
            "source": [
                "6. (Optional) Visualize decision trees"
            ]
        },
        {
            "cell_type": "code",
            "execution_count": 8,
            "metadata": {},
            "outputs": [],
            "source": [
                "tree.export_graphviz(model, out_file = 'MODELNAME.dot',\n",
                "                    feature_names = X.columns, \n",
                "                    class_names = str(sorted(y.unique())), \n",
                "                    label = 'all',\n",
                "                    rounded = True, \n",
                "                    filled = True)\n",
                "\n",
                "#Download the file music-recommender.dot and open it in VS Code.\n",
                ""
            ]
        },
        {
            "cell_type": "code",
            "execution_count": 0,
            "metadata": {},
            "outputs": [],
            "source": [
                ""
            ]
        }
    ]
}
